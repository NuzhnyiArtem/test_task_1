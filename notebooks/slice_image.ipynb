{
 "cells": [
  {
   "cell_type": "code",
   "execution_count": 6,
   "id": "698d0928",
   "metadata": {},
   "outputs": [],
   "source": [
    "from sahi.slicing import slice_coco\n",
    "from os import listdir"
   ]
  },
  {
   "cell_type": "code",
   "execution_count": null,
   "id": "696b60ec",
   "metadata": {},
   "outputs": [],
   "source": [
    "def slice_images(folders, total, output_dir):\n",
    "    for folder in folders:\n",
    "        fol = listdir(directory_path + \"\\\\\" + folder)\n",
    "        for images in fol:\n",
    "            imgs =listdir(directory_path + \"\\\\\" + folder + \"\\\\\" + images)\n",
    "            for image in imgs:\n",
    "                total += 1\n",
    "                slice_image_result = slice_image(\n",
    "                    image=image,\n",
    "                    output_file_name=str(total),\n",
    "                    output_dir=(output_dir + \"\\\\\" + str(folder) + \"\\\\\" + str(images) + \"\\\\\" \"sliced\"),\n",
    "                    slice_height=640,\n",
    "                    slice_width=640,\n",
    "                    overlap_height_ratio=0.2,\n",
    "                    overlap_width_ratio=0.2,\n",
    "                )\n",
    "\n",
    "\n",
    "directory_path = r\"\"  # Путь к папкам с изображениями\n",
    "folders = listdir(directory_path)\n",
    "print(folders)\n",
    "total = 0\n",
    "output_dir = r\"\"  #Путь к папке для сохранения\n",
    "slice_images(folders, total, output_dir)"
   ]
  }
 ],
 "metadata": {
  "kernelspec": {
   "display_name": "Python 3 (ipykernel)",
   "language": "python",
   "name": "python3"
  },
  "language_info": {
   "codemirror_mode": {
    "name": "ipython",
    "version": 3
   },
   "file_extension": ".py",
   "mimetype": "text/x-python",
   "name": "python",
   "nbconvert_exporter": "python",
   "pygments_lexer": "ipython3",
   "version": "3.9.13"
  }
 },
 "nbformat": 4,
 "nbformat_minor": 5
}
