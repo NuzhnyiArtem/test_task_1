{
 "cells": [
  {
   "cell_type": "code",
   "execution_count": 1,
   "id": "6bba0c81",
   "metadata": {},
   "outputs": [],
   "source": [
    "from sahi.utils.coco import Coco"
   ]
  },
  {
   "cell_type": "code",
   "execution_count": null,
   "id": "b9faeefa",
   "metadata": {},
   "outputs": [],
   "source": [
    "def coco_to_yolo(img_dir, out_dir, split=0.8, out_name):\n",
    "  \"\"\"Принимает на вход изображения и json файл в формате COCO,\n",
    "  Возвращает изображения и текстовый документ в формате yolo\n",
    "  Имеет следующие параметры\n",
    "  image dir - Путь к папке с изображениями\n",
    "  output_dir - Путь к папке куда мы будем сохранять наш датасет\n",
    "  train_split_rate - Разделение выборки на rain и val в процентах,\n",
    "  число указывает на размер тренировочной выборки. По умолчанию установлен 0.8\n",
    "  \"\"\"\n",
    "\n",
    "  coco = Coco.from_coco_dict_or_path(\"merged_coco.json\", image_dir=img_dir)\n",
    "  coco.export_as_yolov5(\n",
    "    output_dir=out_dir,\n",
    "    train_split_rate=split\n",
    "  )\n",
    "\n",
    "\n",
    "image_dir = r\"\"\n",
    "output_dir = r\"\"\n",
    "train_split_rate = float(input())\n",
    "coco_to_yolo(image_dir, output_dir, train_split_rate)\n"
   ]
  }
 ],
 "metadata": {
  "kernelspec": {
   "display_name": "Python 3 (ipykernel)",
   "language": "python",
   "name": "python3"
  },
  "language_info": {
   "codemirror_mode": {
    "name": "ipython",
    "version": 3
   },
   "file_extension": ".py",
   "mimetype": "text/x-python",
   "name": "python",
   "nbconvert_exporter": "python",
   "pygments_lexer": "ipython3",
   "version": "3.9.13"
  }
 },
 "nbformat": 4,
 "nbformat_minor": 5
}
