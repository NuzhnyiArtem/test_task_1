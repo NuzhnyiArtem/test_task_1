{
 "cells": [
  {
   "cell_type": "code",
   "execution_count": 1,
   "id": "0fe2c206",
   "metadata": {},
   "outputs": [],
   "source": [
    "from sahi.utils.coco import Coco\n",
    "from sahi.utils.file import save_json\n",
    "from os import listdir"
   ]
  },
  {
   "cell_type": "code",
   "execution_count": null,
   "id": "188b4ffc",
   "metadata": {},
   "outputs": [],
   "source": [
    "def merge_coco(img_dir, frst_file, cc_files, out_name):\n",
    "    \"\"\"Принимает на вход путь к папке с изображениями, путь к основному файлу,\n",
    "    и путь к папке с json файлами COCO.\n",
    "    Объединяет json файлы в один\"\"\"\n",
    "    cc_file = listdir(cc_files)\n",
    "    coco_1 = Coco.from_coco_dict_or_path(frst_file, image_dir=img_dir)\n",
    "    for cf in cc_file:\n",
    "        print(cf)\n",
    "        coco_2 = Coco.from_coco_dict_or_path(cc_files + \"\\\\\" + cf, image_dir=image_dir)\n",
    "        coco_1.merge(coco_2)\n",
    "        save_json(coco_1.json, out_name)\n",
    "\n",
    "\n",
    "first_file = r\"C:\\Users\\mlwk\\PycharmProjects\\marking\\testsplit\\coco1\"  # Путь к основному файлу на основе которого будет производиться объединение\n",
    "image_dir = r\"C:\\Users\\mlwk\\PycharmProjects\\marking\\testsplit\\coco1\"  # Путь к папке с изображениями\n",
    "coco_files = r\"C:\\Users\\mlwk\\PycharmProjects\\marking\\testsplit\\coco1\"  # Путь к папке с json файлами\n",
    "output_name = input()  # Имя выходного файла(должно совпадать с именем основного файла)\n",
    "merge_coco(image_dir, first_file, coco_files, output_name)\n"
   ]
  }
 ],
 "metadata": {
  "kernelspec": {
   "display_name": "Python 3 (ipykernel)",
   "language": "python",
   "name": "python3"
  },
  "language_info": {
   "codemirror_mode": {
    "name": "ipython",
    "version": 3
   },
   "file_extension": ".py",
   "mimetype": "text/x-python",
   "name": "python",
   "nbconvert_exporter": "python",
   "pygments_lexer": "ipython3",
   "version": "3.9.13"
  }
 },
 "nbformat": 4,
 "nbformat_minor": 5
}
